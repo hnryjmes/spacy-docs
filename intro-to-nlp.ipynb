{
 "cells": [
  {
   "cell_type": "code",
   "execution_count": 2,
   "id": "1351f2df-9f0d-4920-9706-cc434ae529f4",
   "metadata": {},
   "outputs": [],
   "source": [
    "import pandas as pd\n",
    "\n",
    "df = pd.read_csv(\"./data/Questions.csv\", nrows=1_000_000, encoding=\"ISO-8859-1\", usecols=['Title', 'Id'])\n",
    "\n",
    "titles = [_ for _ in df['Title']]"
   ]
  },
  {
   "cell_type": "code",
   "execution_count": 3,
   "id": "4deaff1f-470d-44ff-9685-7506e369ed52",
   "metadata": {},
   "outputs": [
    {
     "data": {
      "text/html": [
       "<div>\n",
       "<style scoped>\n",
       "    .dataframe tbody tr th:only-of-type {\n",
       "        vertical-align: middle;\n",
       "    }\n",
       "\n",
       "    .dataframe tbody tr th {\n",
       "        vertical-align: top;\n",
       "    }\n",
       "\n",
       "    .dataframe thead th {\n",
       "        text-align: right;\n",
       "    }\n",
       "</style>\n",
       "<table border=\"1\" class=\"dataframe\">\n",
       "  <thead>\n",
       "    <tr style=\"text-align: right;\">\n",
       "      <th></th>\n",
       "      <th>Id</th>\n",
       "      <th>Title</th>\n",
       "    </tr>\n",
       "  </thead>\n",
       "  <tbody>\n",
       "    <tr>\n",
       "      <th>0</th>\n",
       "      <td>80</td>\n",
       "      <td>SQLStatement.execute() - multiple queries in o...</td>\n",
       "    </tr>\n",
       "    <tr>\n",
       "      <th>1</th>\n",
       "      <td>90</td>\n",
       "      <td>Good branching and merging tutorials for Torto...</td>\n",
       "    </tr>\n",
       "    <tr>\n",
       "      <th>2</th>\n",
       "      <td>120</td>\n",
       "      <td>ASP.NET Site Maps</td>\n",
       "    </tr>\n",
       "    <tr>\n",
       "      <th>3</th>\n",
       "      <td>180</td>\n",
       "      <td>Function for creating color wheels</td>\n",
       "    </tr>\n",
       "    <tr>\n",
       "      <th>4</th>\n",
       "      <td>260</td>\n",
       "      <td>Adding scripting functionality to .NET applica...</td>\n",
       "    </tr>\n",
       "    <tr>\n",
       "      <th>...</th>\n",
       "      <td>...</td>\n",
       "      <td>...</td>\n",
       "    </tr>\n",
       "    <tr>\n",
       "      <th>999995</th>\n",
       "      <td>33112570</td>\n",
       "      <td>GStreamer tutorial on Android getting 'Unsuppo...</td>\n",
       "    </tr>\n",
       "    <tr>\n",
       "      <th>999996</th>\n",
       "      <td>33112630</td>\n",
       "      <td>I am getting an undefined index error</td>\n",
       "    </tr>\n",
       "    <tr>\n",
       "      <th>999997</th>\n",
       "      <td>33112660</td>\n",
       "      <td>Bootstrapping to estimate the mean of a geomet...</td>\n",
       "    </tr>\n",
       "    <tr>\n",
       "      <th>999998</th>\n",
       "      <td>33112730</td>\n",
       "      <td>Ruby: HTTP Put method</td>\n",
       "    </tr>\n",
       "    <tr>\n",
       "      <th>999999</th>\n",
       "      <td>33112770</td>\n",
       "      <td>Call Functions in CakePHP 3</td>\n",
       "    </tr>\n",
       "  </tbody>\n",
       "</table>\n",
       "<p>1000000 rows × 2 columns</p>\n",
       "</div>"
      ],
      "text/plain": [
       "              Id                                              Title\n",
       "0             80  SQLStatement.execute() - multiple queries in o...\n",
       "1             90  Good branching and merging tutorials for Torto...\n",
       "2            120                                  ASP.NET Site Maps\n",
       "3            180                 Function for creating color wheels\n",
       "4            260  Adding scripting functionality to .NET applica...\n",
       "...          ...                                                ...\n",
       "999995  33112570  GStreamer tutorial on Android getting 'Unsuppo...\n",
       "999996  33112630              I am getting an undefined index error\n",
       "999997  33112660  Bootstrapping to estimate the mean of a geomet...\n",
       "999998  33112730                              Ruby: HTTP Put method\n",
       "999999  33112770                        Call Functions in CakePHP 3\n",
       "\n",
       "[1000000 rows x 2 columns]"
      ]
     },
     "execution_count": 3,
     "metadata": {},
     "output_type": "execute_result"
    }
   ],
   "source": [
    "df"
   ]
  },
  {
   "cell_type": "code",
   "execution_count": 4,
   "id": "833a9d27-d169-4809-a2b8-b3d7fedd546e",
   "metadata": {},
   "outputs": [
    {
     "data": {
      "text/plain": [
       "['function updateMap for Google Maps API',\n",
       " 'How to select only one pragraph in html and to change color with jquery',\n",
       " 'Check if connection is established on port',\n",
       " 'Incorrect string value for Croatina characters',\n",
       " 'Does anyone know the options for Devises `authenticate_user!`?',\n",
       " 'Multibinding not firing when the bound properties change',\n",
       " 'what is sizeof(something) == 0?',\n",
       " 'Programmatically determine user who last modified file on Windows?',\n",
       " 'understanding how to Import variables from a method',\n",
       " 'Paginate child models Kaminari on rails 3.1',\n",
       " 'a Music API that has new albums release dates',\n",
       " 'Clean URLs by turning view state off in ASP.NET C#',\n",
       " 'avr-g++ compilation failed with Make Error 1',\n",
       " 'How to disable windows aunthentication pop up in port 80?',\n",
       " 'Static method from servlet',\n",
       " 'SQL Server encrypt pdf file',\n",
       " 'Unable to group after left join',\n",
       " '\"Params\" not working to handle JSON parameters in Rails',\n",
       " \"Groovy Sql Execute Statement won't accept closures\",\n",
       " 'MySQL-proxy and basic failover (detect state)']"
      ]
     },
     "execution_count": 4,
     "metadata": {},
     "output_type": "execute_result"
    }
   ],
   "source": [
    "import random\n",
    "\n",
    "random.choices(titles, k=20)"
   ]
  },
  {
   "cell_type": "code",
   "execution_count": 7,
   "id": "ec126125-fe56-4d3c-b37c-c58d83d56e30",
   "metadata": {},
   "outputs": [
    {
     "data": {
      "text/plain": [
       "['Is there a good, free WYSIWYG editor for creating HTML using a Django template?',\n",
       " 'How to get Django AutoFields to start at a higher number']"
      ]
     },
     "execution_count": 7,
     "metadata": {},
     "output_type": "execute_result"
    }
   ],
   "source": [
    "def has_golang(text):\n",
    "    return \"go \" in text\n",
    "\n",
    "g = (title for title in titles if has_golang(title))\n",
    "[next(g) for i in range(2)]"
   ]
  },
  {
   "cell_type": "code",
   "execution_count": null,
   "id": "5e4a4c02-18c8-498e-bc1e-3ce2b3cab9aa",
   "metadata": {},
   "outputs": [],
   "source": []
  }
 ],
 "metadata": {
  "kernelspec": {
   "display_name": "Python 3",
   "language": "python",
   "name": "python3"
  },
  "language_info": {
   "codemirror_mode": {
    "name": "ipython",
    "version": 3
   },
   "file_extension": ".py",
   "mimetype": "text/x-python",
   "name": "python",
   "nbconvert_exporter": "python",
   "pygments_lexer": "ipython3",
   "version": "3.9.4"
  }
 },
 "nbformat": 4,
 "nbformat_minor": 5
}
